{
 "cells": [
  {
   "cell_type": "code",
   "execution_count": 3,
   "id": "66d3d15a",
   "metadata": {},
   "outputs": [
    {
     "name": "stdout",
     "output_type": "stream",
     "text": [
      "Requirement already satisfied: opencv-python in /home/aejepsen/anaconda3/lib/python3.12/site-packages (4.12.0.88)\n",
      "Requirement already satisfied: numpy<2.3.0,>=2 in /home/aejepsen/anaconda3/lib/python3.12/site-packages (from opencv-python) (2.2.6)\n",
      "Note: you may need to restart the kernel to use updated packages.\n"
     ]
    }
   ],
   "source": [
    "pip install opencv-python\n"
   ]
  },
  {
   "cell_type": "code",
   "execution_count": null,
   "id": "c20d4697",
   "metadata": {},
   "outputs": [],
   "source": [
    "import cv2\n",
    "\n",
    "# 1. Carrega a imagem colorida\n",
    "imagem_colorida = cv2.imread('lenaRGB.jpeg')  # Certifique-se de que lenaRGB.jpg está no mesmo diretório\n",
    "\n",
    "# Verifica se a imagem foi carregada corretamente\n",
    "if imagem_colorida is None:\n",
    "    print(\"Erro ao carregar a imagem. Verifique o nome ou caminho.\")\n",
    "    exit()\n",
    "\n",
    "# 2. Converte para escala de cinza (preto e branco)\n",
    "imagem_cinza = cv2.cvtColor(imagem_colorida, cv2.COLOR_BGR2GRAY)\n",
    "\n",
    "# 3. Detecta bordas com o algoritmo de Canny (imagem binária)\n",
    "imagem_bordas = cv2.Canny(imagem_cinza, threshold1=100, threshold2=200)\n",
    "\n",
    "# 4. Salva as imagens de saída\n",
    "cv2.imwrite('saida_cinza.jpg', imagem_cinza)\n",
    "cv2.imwrite('saida_bordas.jpg', imagem_bordas)\n",
    "\n",
    "# 5. Mostra as imagens em janelas (opcional)\n",
    "cv2.imshow('Original', imagem_colorida)\n",
    "cv2.imshow('Preto e Branco (Cinza)', imagem_cinza)\n",
    "cv2.imshow('Somente Bordas (Binária)', imagem_bordas)\n",
    "\n",
    "cv2.waitKey(0)\n",
    "cv2.destroyAllWindows()\n"
   ]
  },
  {
   "cell_type": "code",
   "execution_count": null,
   "id": "2d7183cf",
   "metadata": {},
   "outputs": [
    {
     "name": "stdout",
     "output_type": "stream",
     "text": [
      "Imagens salvas como 'lena_cinza.jpg' e 'lena_bordas_binaria.jpg'\n"
     ]
    }
   ],
   "source": [
    "import cv2\n",
    "import numpy as np\n",
    "\n",
    "# Carregar a imagem colorida da Lena\n",
    "lena = cv2.imread('lenaRGB.jpeg')  # Certifique-se de ter o arquivo lenaRBG.jpg no diretório\n",
    "\n",
    "# Verificar se a imagem foi carregada corretamente\n",
    "if lena is None:\n",
    "    raise FileNotFoundError(\"Arquivo 'lenaRGD.jpeg' não encontrado. Verifique o caminho.\")\n",
    "# Conversão manual para escala de cinza usando fórmula de luminância perceptiva\n",
    "# Gray = 0.299 * R + 0.587 * G + 0.114 * B\n",
    "gray = 0.299 * lena[:, :, 2] + 0.587 * lena[:, :, 1] + 0.114 * lena[:, :, 0]\n",
    "gray = gray.astype(np.uint8)\n",
    "\n",
    "# Detecção de bordas usando gradientes de Sobel (simples e sem Canny)\n",
    "sobel_x = cv2.Sobel(gray, cv2.CV_64F, 1, 0, ksize=3)\n",
    "sobel_y = cv2.Sobel(gray, cv2.CV_64F, 0, 1, ksize=3)\n",
    "\n",
    "# Calcular magnitude do gradiente\n",
    "magnitude = np.sqrt(sobel_x**2 + sobel_y**2)\n",
    "magnitude = np.uint8(magnitude)\n",
    "\n",
    "# Binarização simples das bordas com limiar\n",
    "_, bordas_binaria = cv2.threshold(magnitude, 50, 255, cv2.THRESH_BINARY)\n",
    "\n",
    "# Salvar as imagens geradas\n",
    "cv2.imwrite('lena_cinza.jpg', gray)\n",
    "cv2.imwrite('lena_bordas_binaria.jpg', bordas_binaria)\n",
    "\n",
    "print(\"Imagens salvas como 'lena_cinza.jpg' e 'lena_bordas_binaria.jpg'\")\n"
   ]
  }
 ],
 "metadata": {
  "kernelspec": {
   "display_name": "base",
   "language": "python",
   "name": "python3"
  },
  "language_info": {
   "codemirror_mode": {
    "name": "ipython",
    "version": 3
   },
   "file_extension": ".py",
   "mimetype": "text/x-python",
   "name": "python",
   "nbconvert_exporter": "python",
   "pygments_lexer": "ipython3",
   "version": "3.12.7"
  }
 },
 "nbformat": 4,
 "nbformat_minor": 5
}
